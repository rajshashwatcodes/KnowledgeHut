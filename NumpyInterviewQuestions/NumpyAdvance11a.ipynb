{
  "nbformat": 4,
  "nbformat_minor": 0,
  "metadata": {
    "colab": {
      "provenance": []
    },
    "kernelspec": {
      "name": "python3",
      "display_name": "Python 3"
    },
    "language_info": {
      "name": "python"
    }
  },
  "cells": [
    {
      "cell_type": "code",
      "execution_count": 4,
      "metadata": {
        "id": "xQvvBF41P46U"
      },
      "outputs": [],
      "source": [
        "#Importing Libraries\n",
        "import numpy as np \n",
        "import matplotlib.pyplot as plt "
      ]
    },
    {
      "cell_type": "code",
      "source": [
        "# Generate a test signal with four sine waves at different frequencies \n",
        "t = np.linspace(0, 2*np.pi, 1000, endpoint=False) \n",
        "sig = np.sin(2*t) + np.sin(6*t) + np.sin(10*t) + np.sin(14*t) "
      ],
      "metadata": {
        "id": "P5ObtFLrQSbj"
      },
      "execution_count": 5,
      "outputs": []
    },
    {
      "cell_type": "code",
      "source": [
        "# Compute the FFT of the signal \n",
        "sig_fft = np.fft.fft(sig) "
      ],
      "metadata": {
        "id": "UyQzPAEeQUxL"
      },
      "execution_count": 6,
      "outputs": []
    },
    {
      "cell_type": "code",
      "source": [
        "# Get the frequencies corresponding to the FFT coefficients \n",
        "frequencies = np.fft.fftfreq(sig.size, t[1] - t[0]) "
      ],
      "metadata": {
        "id": "DudptyN3QW2y"
      },
      "execution_count": 7,
      "outputs": []
    },
    {
      "cell_type": "code",
      "source": [
        "# Only keep the positive frequencies \n",
        "positive_freqs = frequencies[:sig.size // 2] \n",
        "sig_fft = sig_fft[:sig.size // 2] "
      ],
      "metadata": {
        "id": "vHKEohhGQZZO"
      },
      "execution_count": 8,
      "outputs": []
    },
    {
      "cell_type": "code",
      "source": [
        "# Plot the FFT \n",
        "plt.plot(positive_freqs, np.abs(sig_fft)) \n",
        "plt.xlabel('Frequency (Hz)') \n",
        "plt.ylabel('FFT Coefficient') \n",
        "\n",
        "plt.show() "
      ],
      "metadata": {
        "colab": {
          "base_uri": "https://localhost:8080/",
          "height": 279
        },
        "id": "Vr9apPWsQbcm",
        "outputId": "eb52e7c1-6817-49b9-949d-ff6885429a07"
      },
      "execution_count": 9,
      "outputs": [
        {
          "output_type": "display_data",
          "data": {
            "text/plain": [
              "<Figure size 432x288 with 1 Axes>"
            ],
            "image/png": "[encoded data removed]"
          },
          "metadata": {
            "needs_background": "light"
          }
        }
      ]
    }
  ]
}