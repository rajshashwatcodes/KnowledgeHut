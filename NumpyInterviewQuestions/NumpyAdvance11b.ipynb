{
  "nbformat": 4,
  "nbformat_minor": 0,
  "metadata": {
    "colab": {
      "provenance": []
    },
    "kernelspec": {
      "name": "python3",
      "display_name": "Python 3"
    },
    "language_info": {
      "name": "python"
    }
  },
  "cells": [
    {
      "cell_type": "code",
      "execution_count": 10,
      "metadata": {
        "id": "xQvvBF41P46U"
      },
      "outputs": [],
      "source": [
        "#Importing Numpy\n",
        "import numpy as np "
      ]
    },
    {
      "cell_type": "code",
      "source": [
        "# Generate a test signal with four sine waves at different frequencies \n",
        "t = np.linspace(0, 2*np.pi, 1000, endpoint=False) \n",
        "sig = np.sin(2*t) + np.sin(6*t) + np.sin(10*t) + np.sin(14*t) "
      ],
      "metadata": {
        "id": "P5ObtFLrQSbj"
      },
      "execution_count": 11,
      "outputs": []
    },
    {
      "cell_type": "code",
      "source": [
        "# Add some noise to the signal \n",
        "sig += 0.1 * np.random.randn(sig.size) "
      ],
      "metadata": {
        "id": "UyQzPAEeQUxL"
      },
      "execution_count": 12,
      "outputs": []
    },
    {
      "cell_type": "code",
      "source": [
        "# Reshape the signal into a 2D array with 10 rows and 100 columns \n",
        "sig_2d = sig.reshape((10, 100)) "
      ],
      "metadata": {
        "id": "DudptyN3QW2y"
      },
      "execution_count": 13,
      "outputs": []
    },
    {
      "cell_type": "code",
      "source": [
        "# Compute the FFT of each column \n",
        "sig_fft = np.fft.fft(sig_2d, axis=0) "
      ],
      "metadata": {
        "id": "vHKEohhGQZZO"
      },
      "execution_count": 14,
      "outputs": []
    },
    {
      "cell_type": "code",
      "source": [
        "# Get the frequencies corresponding to the FFT coefficients \n",
        "frequencies = np.fft.fftfreq(sig_2d.shape[1], t[1] - t[0])"
      ],
      "metadata": {
        "id": "Vr9apPWsQbcm"
      },
      "execution_count": 15,
      "outputs": []
    },
    {
      "cell_type": "code",
      "source": [
        "# Only keep the positive frequencies \n",
        "positive_freqs = frequencies[:sig_2d.shape[1] // 2] \n",
        "sig_fft = sig_fft[:sig_2d.shape[1] // 2, :] "
      ],
      "metadata": {
        "id": "WDCJD1NDZYuN"
      },
      "execution_count": 16,
      "outputs": []
    },
    {
      "cell_type": "code",
      "source": [
        "# Plot the FFT for each row \n",
        "plt.imshow(np.abs(sig_fft), extent=(positive_freqs[0], positive_freqs[-1], sig_2d.shape[0], 0)) \n",
        "plt.xlabel('Frequency (Hz)') \n",
        "plt.ylabel('Row') \n",
        "plt.colorbar() "
      ],
      "metadata": {
        "colab": {
          "base_uri": "https://localhost:8080/",
          "height": 266
        },
        "id": "2eBfBTFgZYhF",
        "outputId": "05ed197b-86cf-434b-db22-7e1d72fb0b53"
      },
      "execution_count": 17,
      "outputs": [
        {
          "output_type": "execute_result",
          "data": {
            "text/plain": [
              "<matplotlib.colorbar.Colorbar at 0x7fb55074bb50>"
            ]
          },
          "metadata": {},
          "execution_count": 17
        },
        {
          "output_type": "display_data",
          "data": {
            "text/plain": [
              "<Figure size 432x288 with 2 Axes>"
            ],
            "image/png": "[encoded data removed]"
          },
          "metadata": {
            "needs_background": "light"
          }
        }
      ]
    }
  ]
}